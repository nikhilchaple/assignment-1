{
 "cells": [
  {
   "cell_type": "code",
   "execution_count": 9,
   "id": "80ef643e",
   "metadata": {},
   "outputs": [
    {
     "name": "stdout",
     "output_type": "stream",
     "text": [
      "-81.8\n",
      "-93.8\n",
      "-14.633333333333333\n",
      "-526.8\n",
      "hello\n"
     ]
    },
    {
     "data": {
      "text/plain": [
       "int"
      ]
     },
     "execution_count": 9,
     "metadata": {},
     "output_type": "execute_result"
    }
   ],
   "source": [
    "#1. In the below elements which of them are values or an expression? eg:- values can be\n",
    "# integer or string and expressions will be mathematical operators.\n",
    "\n",
    "# *  is expression\n",
    "# hello is integer\n",
    "# -87.8 is interger\n",
    "# - expression\n",
    "# / expression\n",
    "# + expression\n",
    "# 6 is interger\n",
    "\n",
    "a=-87.8\n",
    "b=6\n",
    "hello=1\n",
    "print(a+b)\n",
    "print(a-b)\n",
    "print(a/b)\n",
    "print(a*b)\n",
    "print(\"hello\")\n",
    "type(-87.8)\n",
    "type(6)\n",
    "type(hello)"
   ]
  },
  {
   "cell_type": "code",
   "execution_count": null,
   "id": "21f67a0a",
   "metadata": {},
   "outputs": [],
   "source": [
    "#2. What is the difference between string and variable?\n",
    "# answer ;- String is data use in programig and variablesanre he symbols which can be use tostore data in program for easy handling\n",
    "# sting always startwith quotes and variable does not."
   ]
  },
  {
   "cell_type": "code",
   "execution_count": null,
   "id": "8428d160",
   "metadata": {},
   "outputs": [],
   "source": [
    "#3. Describe three different data types.\n",
    "# Numeric is data type which hold value in form of int, float, complex \n",
    "# String or str holds sequence of characters\n",
    "# Boolean or bool is either True or False\n",
    "\n"
   ]
  },
  {
   "cell_type": "code",
   "execution_count": null,
   "id": "68248fa2",
   "metadata": {},
   "outputs": [],
   "source": [
    "#4. What is an expression made up of? What do all expressions do?\n",
    "#Answer:- An expression is combination of value, variables, operators and functions. Expression is to evaluate the result and disply i."
   ]
  },
  {
   "cell_type": "code",
   "execution_count": null,
   "id": "643dd10c",
   "metadata": {},
   "outputs": [],
   "source": [
    "#5.This assignment statements, like spam = 10. What is the difference between an expression and a statement?\n",
    "# Answer:- Statement do not evaluate the where as Expression evaluate a single value of 10.\n"
   ]
  },
  {
   "cell_type": "code",
   "execution_count": 12,
   "id": "d19caf42",
   "metadata": {},
   "outputs": [
    {
     "data": {
      "text/plain": [
       "23"
      ]
     },
     "execution_count": 12,
     "metadata": {},
     "output_type": "execute_result"
    }
   ],
   "source": [
    "#6. After running the following code, what does the variable bacon contain?\n",
    "bacon = 22\n",
    "bacon + 1\n",
    "# It does not reassign value as bacon is assign 20 , so we need to assign bacon= bacon +1    "
   ]
  },
  {
   "cell_type": "code",
   "execution_count": 18,
   "id": "3bfcfe58",
   "metadata": {},
   "outputs": [
    {
     "data": {
      "text/plain": [
       "'spamspamspam'"
      ]
     },
     "execution_count": 18,
     "metadata": {},
     "output_type": "execute_result"
    }
   ],
   "source": [
    "#7. What should the values of the following two terms be?\n",
    "\n",
    "'spam' + 'spamspam'\n",
    "'spam' * 3"
   ]
  },
  {
   "cell_type": "code",
   "execution_count": 19,
   "id": "a23b78d1",
   "metadata": {},
   "outputs": [],
   "source": [
    "# 8. Why is eggs a valid variable name while 100 is invalid?\n",
    "# Variable can not start with number"
   ]
  },
  {
   "cell_type": "code",
   "execution_count": 20,
   "id": "96e04bd9",
   "metadata": {},
   "outputs": [],
   "source": [
    "# 9. What three functions can be used to get the integer, floating-point number, or string version of a value?\n",
    "# int(), float(), str()"
   ]
  },
  {
   "cell_type": "code",
   "execution_count": 33,
   "id": "91eaefef",
   "metadata": {},
   "outputs": [
    {
     "data": {
      "text/plain": [
       "'eaten 99 burritos.'"
      ]
     },
     "execution_count": 33,
     "metadata": {},
     "output_type": "execute_result"
    }
   ],
   "source": [
    "#10. Why does this expression cause an error? How can you fix it?\n",
    "'eaten '+ str(99) +' burritos.'\n",
    "# 99 is an Integer and str can interact with another operator"
   ]
  },
  {
   "cell_type": "code",
   "execution_count": null,
   "id": "955ca061",
   "metadata": {},
   "outputs": [],
   "source": []
  }
 ],
 "metadata": {
  "kernelspec": {
   "display_name": "Python 3 (ipykernel)",
   "language": "python",
   "name": "python3"
  },
  "language_info": {
   "codemirror_mode": {
    "name": "ipython",
    "version": 3
   },
   "file_extension": ".py",
   "mimetype": "text/x-python",
   "name": "python",
   "nbconvert_exporter": "python",
   "pygments_lexer": "ipython3",
   "version": "3.10.9"
  }
 },
 "nbformat": 4,
 "nbformat_minor": 5
}
